{
 "cells": [
  {
   "cell_type": "code",
   "execution_count": 27,
   "id": "08782dbd",
   "metadata": {},
   "outputs": [],
   "source": [
    "# === Imports === \n",
    "import streamlit as st\n",
    "import joblib\n",
    "from sklearn.model_selection import GridSearchCV, train_test_split\n",
    "from sklearn.impute import SimpleImputer\n",
    "from sklearn.compose import ColumnTransformer\n",
    "from sklearn.ensemble import RandomForestClassifier, RandomForestRegressor, GradientBoostingRegressor\n",
    "from sklearn.metrics import accuracy_score, classification_report, mean_absolute_error, mean_squared_error, root_mean_squared_error\n",
    "from collections import Counter\n",
    "import scipy.stats as stats\n",
    "import plotly.express as px\n",
    "from sklearn.preprocessing import OneHotEncoder, MinMaxScaler, StandardScaler\n",
    "import pandas as pd\n",
    "from sklearn.pipeline import Pipeline\n",
    "import seaborn as sns\n",
    "from statsmodels.tsa.arima.model import ARIMA\n",
    "from sklearn.datasets import fetch_california_housing\n",
    "from sklearn.linear_model import LinearRegression\n",
    "from prophet import Prophet\n",
    "import matplotlib.pyplot as plt"
   ]
  },
  {
   "cell_type": "markdown",
   "id": "c387f03e",
   "metadata": {},
   "source": [
    "# Data Imports\n"
   ]
  },
  {
   "cell_type": "code",
   "execution_count": 28,
   "id": "4a32256b",
   "metadata": {},
   "outputs": [],
   "source": [
    "# === Prophet Modeling === \n",
    "home_prices_df = pd.read_csv(\"Zillow Home Data.csv\")\n",
    "home_sales_count = pd.read_csv('Sold_Homes_US.csv')\n",
    "mortgage_data = pd.read_csv(\"mortgage_rates.csv\")"
   ]
  },
  {
   "cell_type": "markdown",
   "id": "5626c7d3",
   "metadata": {},
   "source": [
    "# Data Cleaning"
   ]
  },
  {
   "cell_type": "code",
   "execution_count": 29,
   "id": "187d4168",
   "metadata": {},
   "outputs": [
    {
     "name": "stderr",
     "output_type": "stream",
     "text": [
      "C:\\Users\\Pete\\AppData\\Local\\Temp\\ipykernel_25248\\2249457234.py:6: UserWarning: Boolean Series key will be reindexed to match DataFrame index.\n",
      "  Fayetteville_home_sales_count = home_sales_count[(home_prices_df[\"StateName\"] == \"NC\")]\n",
      "C:\\Users\\Pete\\AppData\\Local\\Temp\\ipykernel_25248\\2249457234.py:82: SettingWithCopyWarning: \n",
      "A value is trying to be set on a copy of a slice from a DataFrame.\n",
      "Try using .loc[row_indexer,col_indexer] = value instead\n",
      "\n",
      "See the caveats in the documentation: https://pandas.pydata.org/pandas-docs/stable/user_guide/indexing.html#returning-a-view-versus-a-copy\n",
      "  combined_df_post_2008_with_sales_volume['Month'] = combined_df_post_2008_with_sales_volume['Date'].dt.month\n",
      "C:\\Users\\Pete\\AppData\\Local\\Temp\\ipykernel_25248\\2249457234.py:83: SettingWithCopyWarning: \n",
      "A value is trying to be set on a copy of a slice from a DataFrame.\n",
      "Try using .loc[row_indexer,col_indexer] = value instead\n",
      "\n",
      "See the caveats in the documentation: https://pandas.pydata.org/pandas-docs/stable/user_guide/indexing.html#returning-a-view-versus-a-copy\n",
      "  combined_df_post_2008_with_sales_volume['Day'] = combined_df_post_2008_with_sales_volume['Date'].dt.day\n"
     ]
    }
   ],
   "source": [
    "Fayetteville_home_price_DF = home_prices_df[(home_prices_df[\"StateName\"]== 'NC') & (home_prices_df['RegionName'] == 'Fayetteville, NC')]\n",
    "fayetteville_prices = Fayetteville_home_price_DF.drop(columns = ['RegionID', 'SizeRank', 'RegionName', 'RegionType', 'StateName']).T\n",
    "fayetteville_prices.columns = [\"Price\"]\n",
    "fayetteville_prices.index = pd.to_datetime(fayetteville_prices.index)\n",
    "\n",
    "Fayetteville_home_sales_count = home_sales_count[(home_prices_df[\"StateName\"] == \"NC\")]\n",
    "Fay_mean_sales_by_month = Fayetteville_home_sales_count.mean(axis=0, numeric_only=True).to_frame().T\n",
    "Fay_mean_sales_by_month = Fay_mean_sales_by_month.drop([\"RegionID\", \"SizeRank\"], axis=1)\n",
    "Fay_mean_sales_by_month.columns = pd.to_datetime(Fay_mean_sales_by_month.columns, )\n",
    "test_df = Fay_mean_sales_by_month.T\n",
    "Fay_mean_sales_by_month_T = Fay_mean_sales_by_month.T\n",
    "Fay_mean_sales_by_month_T = Fay_mean_sales_by_month_T.reset_index()\n",
    "Fay_mean_sales_by_month_T.columns = ['Date', 'Sales Per Month']  # Rename columns\n",
    "\n",
    "clean_df = Fayetteville_home_price_DF.drop([\"RegionID\", \"SizeRank\", \"RegionName\", \"StateName\", \"RegionType\"], axis=1).T\n",
    "cleaner_df = clean_df.reset_index()\n",
    "df = cleaner_df.rename(columns={106: 'price', 'index': 'Date'})\n",
    "df['Date'] = pd.to_datetime(df['Date'])                   \n",
    "df[\"year\"] = df['Date'].dt.year\n",
    "\n",
    "# annual_avg = df.groupby('year')['price'].mean().reset_index()\n",
    "rates_and_cost = pd.concat([mortgage_data, fayetteville_prices], ignore_index=True)\n",
    "\n",
    "Fay_mean_sales_by_month = Fay_mean_sales_by_month.T\n",
    "Fay_mean_sales_by_month = Fay_mean_sales_by_month.reset_index()\n",
    "Fay_mean_sales_by_month.columns = ['Date', 'Sales_Volume']\n",
    "\n",
    "mortgage_data['observation_date'] = pd.to_datetime(mortgage_data['observation_date'])\n",
    "\n",
    "mortgage_data.rename(columns={'observation_date': 'Date'}, inplace=True)\n",
    "\n",
    "combined_df = df.merge(mortgage_data, on='Date', how='outer')\\\n",
    "                .merge(Fay_mean_sales_by_month, on='Date', how='outer')\n",
    "\n",
    "\n",
    "# Make sure you have a 'year' column\n",
    "combined_df['year'] = combined_df['Date'].dt.year\n",
    "\n",
    "# Fill NaN in SalesVolume with mean SalesVolume of that year\n",
    "combined_df['Sales_Volume'] = combined_df.groupby('year')['Sales_Volume']\\\n",
    "    .transform(lambda x: x.fillna(x.mean()))\n",
    "\n",
    "\n",
    "combined_df['price'] = combined_df.groupby('year')['price'].transform(lambda x: x.fillna(x.mean()))\n",
    "\n",
    "combined_df['MORTGAGE30US'] = combined_df.groupby('year')['MORTGAGE30US'].transform(lambda x: x.fillna(x.mean()))\n",
    "\n",
    "\n",
    "#  1 = Economic \n",
    "#  2 = US War\n",
    "#  3 = International Conlfict\n",
    "\n",
    "conflict_periods_years = [\n",
    "    (2008, 2009, 1),  # Great Recession → Economic\n",
    "    (2008, 2011, 2),  # War on Terror → US War\n",
    "    (2011, 2014, 3),  # Arab Spring → International Conflict\n",
    "    (2014, 2014, 3),  # Crimea Annexation → International Conflict\n",
    "    (2018, 2019, 1),  # US-China Trade War → Economic\n",
    "    (2020, 2022, 1),  # COVID → Economic\n",
    "    (2022, 2025, 3),  # Russia-Ukraine → International Conflict\n",
    "    (2023, 2025, 3)   # Israel–Hamas → International Conflict\n",
    "]\n",
    "\n",
    "\n",
    "# Ensure you have a 'year' column\n",
    "combined_df['year'] = combined_df['Date'].dt.year\n",
    "\n",
    "# Initialize the conflict column with default value, e.g. 0 (no conflict)\n",
    "combined_df['conflict_type'] = 0\n",
    "\n",
    "# Iterate over conflict periods and assign codes\n",
    "for start_year, end_year, code in conflict_periods_years:\n",
    "    mask = (combined_df['year'] >= start_year) & (combined_df['year'] <= end_year)\n",
    "    combined_df.loc[mask, 'conflict_type'] = code\n",
    "\n",
    "\n",
    "combined_df_post_2008_with_sales_volume = combined_df[combined_df['Date'] >= '2008-06-30']\n",
    "\n",
    "combined_df_no_sales_volume = combined_df[combined_df['Date'] <= '2008-06-30']\n",
    "combined_df_no_sales_volume = combined_df_no_sales_volume.drop('Sales_Volume', axis = 1)\n",
    "\n",
    "combined_df_post_2008_with_sales_volume['Month'] = combined_df_post_2008_with_sales_volume['Date'].dt.month\n",
    "combined_df_post_2008_with_sales_volume['Day'] = combined_df_post_2008_with_sales_volume['Date'].dt.day\n",
    "\n",
    "combined_df_post_2008_with_sales_volume = combined_df_post_2008_with_sales_volume.drop('Date', axis = 1)"
   ]
  },
  {
   "cell_type": "markdown",
   "id": "aa579cc0",
   "metadata": {},
   "source": [
    "# Creating Prophet Dataframe"
   ]
  },
  {
   "cell_type": "code",
   "execution_count": 30,
   "id": "c9edf8da",
   "metadata": {},
   "outputs": [],
   "source": [
    "combined_df = df.merge(mortgage_data, on='Date', how='outer')\\\n",
    "                .merge(Fay_mean_sales_by_month, on='Date', how='outer')"
   ]
  },
  {
   "cell_type": "markdown",
   "id": "db7b8a99",
   "metadata": {},
   "source": [
    "# Prophet Modeling\n"
   ]
  },
  {
   "cell_type": "code",
   "execution_count": 31,
   "id": "9800b939",
   "metadata": {},
   "outputs": [
    {
     "name": "stderr",
     "output_type": "stream",
     "text": [
      "C:\\Users\\Pete\\AppData\\Local\\Temp\\ipykernel_25248\\3645830122.py:3: SettingWithCopyWarning: \n",
      "A value is trying to be set on a copy of a slice from a DataFrame.\n",
      "Try using .loc[row_indexer,col_indexer] = value instead\n",
      "\n",
      "See the caveats in the documentation: https://pandas.pydata.org/pandas-docs/stable/user_guide/indexing.html#returning-a-view-versus-a-copy\n",
      "  prophet_df['ds'] = prophet_df['Date']\n",
      "C:\\Users\\Pete\\AppData\\Local\\Temp\\ipykernel_25248\\3645830122.py:5: SettingWithCopyWarning: \n",
      "A value is trying to be set on a copy of a slice from a DataFrame.\n",
      "Try using .loc[row_indexer,col_indexer] = value instead\n",
      "\n",
      "See the caveats in the documentation: https://pandas.pydata.org/pandas-docs/stable/user_guide/indexing.html#returning-a-view-versus-a-copy\n",
      "  prophet_df['y'] =  prophet_df['price']\n"
     ]
    }
   ],
   "source": [
    "prophet_df = combined_df[['Date', 'price']]\n",
    "\n",
    "prophet_df['ds'] = prophet_df['Date']\n",
    "\n",
    "prophet_df['y'] =  prophet_df['price']"
   ]
  },
  {
   "cell_type": "code",
   "execution_count": 32,
   "id": "978c3173",
   "metadata": {},
   "outputs": [
    {
     "name": "stderr",
     "output_type": "stream",
     "text": [
      "10:44:56 - cmdstanpy - INFO - Chain [1] start processing\n",
      "10:44:57 - cmdstanpy - INFO - Chain [1] done processing\n"
     ]
    },
    {
     "data": {
      "text/plain": [
       "<prophet.forecaster.Prophet at 0x2016e702f90>"
      ]
     },
     "execution_count": 32,
     "metadata": {},
     "output_type": "execute_result"
    }
   ],
   "source": [
    "prophet_df = prophet_df.drop(['Date', 'price'], axis =1)\n",
    "\n",
    "model = Prophet(yearly_seasonality=True, weekly_seasonality=True,  daily_seasonality=False)\n",
    "\n",
    "model.fit(prophet_df)"
   ]
  },
  {
   "cell_type": "code",
   "execution_count": 33,
   "id": "5f77f738",
   "metadata": {},
   "outputs": [
    {
     "name": "stderr",
     "output_type": "stream",
     "text": [
      "c:\\Users\\Pete\\anaconda3\\Lib\\site-packages\\prophet\\forecaster.py:1872: FutureWarning: 'M' is deprecated and will be removed in a future version, please use 'ME' instead.\n",
      "  dates = pd.date_range(\n"
     ]
    }
   ],
   "source": [
    "future = model.make_future_dataframe(periods=100, freq='M')\n",
    "forecast = model.predict(future)\n",
    "forecast['yhat'] = forecast['yhat']"
   ]
  },
  {
   "cell_type": "code",
   "execution_count": 34,
   "id": "85331f2c",
   "metadata": {},
   "outputs": [
    {
     "name": "stderr",
     "output_type": "stream",
     "text": [
      "C:\\Users\\Pete\\AppData\\Local\\Temp\\ipykernel_25248\\4029735770.py:17: UserWarning: FigureCanvasAgg is non-interactive, and thus cannot be shown\n",
      "  plt.show()\n"
     ]
    }
   ],
   "source": [
    "import matplotlib.pyplot as plt\n",
    "\n",
    "# Generate the Prophet forecast plot\n",
    "fig = model.plot(forecast)\n",
    "\n",
    "# Customize the plot\n",
    "ax = fig.gca()\n",
    "ax.set_title('Prophet Forecast of Home Prices', fontsize=16)\n",
    "ax.set_xlabel('Date', fontsize=12)\n",
    "ax.set_ylabel('Home Price ($)', fontsize=12)\n",
    "ax.grid(True, which='both', linestyle='--', alpha=0.5)\n",
    "ax.legend(['Predicted', 'Trend', 'Upper Bound', 'Lower Bound'], fontsize=10)\n",
    "\n",
    "# Optionally rotate dates for better visibility\n",
    "plt.xticks(rotation=45)\n",
    "plt.tight_layout()\n",
    "plt.show()"
   ]
  },
  {
   "cell_type": "markdown",
   "id": "93ad5247",
   "metadata": {},
   "source": [
    "# Saving the model\n"
   ]
  },
  {
   "cell_type": "code",
   "execution_count": 38,
   "id": "768f893d",
   "metadata": {},
   "outputs": [
    {
     "data": {
      "text/plain": [
       "['prophet_model.pkl']"
      ]
     },
     "execution_count": 38,
     "metadata": {},
     "output_type": "execute_result"
    }
   ],
   "source": [
    "joblib.dump(model, 'prophet_model.pkl')"
   ]
  },
  {
   "cell_type": "code",
   "execution_count": 39,
   "id": "be2eb448",
   "metadata": {},
   "outputs": [
    {
     "data": {
      "text/plain": [
       "['combined_df.pkl']"
      ]
     },
     "execution_count": 39,
     "metadata": {},
     "output_type": "execute_result"
    }
   ],
   "source": [
    "joblib.dump(combined_df, 'combined_df.pkl')"
   ]
  },
  {
   "cell_type": "code",
   "execution_count": null,
   "id": "33d28248",
   "metadata": {},
   "outputs": [],
   "source": []
  }
 ],
 "metadata": {
  "kernelspec": {
   "display_name": "base",
   "language": "python",
   "name": "python3"
  },
  "language_info": {
   "codemirror_mode": {
    "name": "ipython",
    "version": 3
   },
   "file_extension": ".py",
   "mimetype": "text/x-python",
   "name": "python",
   "nbconvert_exporter": "python",
   "pygments_lexer": "ipython3",
   "version": "3.12.3"
  }
 },
 "nbformat": 4,
 "nbformat_minor": 5
}
